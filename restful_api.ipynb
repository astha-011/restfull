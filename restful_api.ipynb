{
  "nbformat": 4,
  "nbformat_minor": 0,
  "metadata": {
    "colab": {
      "provenance": []
    },
    "kernelspec": {
      "name": "python3",
      "display_name": "Python 3"
    },
    "language_info": {
      "name": "python"
    }
  },
  "cells": [
    {
      "cell_type": "code",
      "execution_count": null,
      "metadata": {
        "id": "9mMSICPLmX_z"
      },
      "outputs": [],
      "source": []
    },
    {
      "cell_type": "markdown",
      "source": [
        "##THEORITICAL QUESTIONS"
      ],
      "metadata": {
        "id": "BoA88hfUmb2l"
      }
    },
    {
      "cell_type": "markdown",
      "source": [
        "1.What is a RESTful API?\n",
        "->A RESTful API is a way for different software systems to communicate over the internet using standard HTTP methods like GET, POST, PUT, and DELETE. It follows principles of REST (Representational State Transfer) and usually deals with resources identified by URLs.\n",
        "\n",
        "2.Explain the concept of API specification.\n",
        "->An API specification is a detailed description of how an API works—what endpoints are available, how to use them, what data to send/receive, and in what format (like JSON). It acts like a contract between systems.\n",
        "\n",
        "3.What is Flask, and why is it popular for building APIs\n",
        "->Flask is a lightweight Python web framework used to build web apps and APIs. It's popular because it's simple, flexible, and easy to get started with. It gives developers control over structure and components, making it ideal for small to medium projects or quick API prototypes.\n",
        "\n",
        "4.What is routing in Flask?\n",
        "->Routing in Flask is the process of mapping URLs to specific functions in your code. When a user visits a URL, Flask uses the route to decide which function (called a view function) should handle the request and return a response\n",
        "\n",
        "5.How do you create a simple Flask application?\n",
        "->To create a simple Flask app:\n",
        "\n",
        "1.Install Flask: pip install flask\n",
        "\n",
        "2.Write the code\n",
        "\n",
        "3.Run it: python app.py\n",
        "\n",
        "6.What are HTTP methods used in RESTful APIs?\n",
        "->The main HTTP methods used in RESTful APIs are:\n",
        "\n",
        "GET – Retrieve data\n",
        "\n",
        "POST – Create new data\n",
        "\n",
        "PUT – Update existing data\n",
        "\n",
        "PATCH – Partially update data\n",
        "\n",
        "DELETE – Remove data\n",
        "\n",
        "7.What is the purpose of the @app.route() decorator in Flask?\n",
        "->The `@app.route()` decorator in Flask is used to define a URL path and link it to a function. It tells Flask which function to run when a specific route (URL) is requested. It connects URLs to Python functions.\n",
        "\n",
        "8.What is the difference between GET and POST HTTP methods?\n",
        "->The main difference between **GET** and **POST**:\n",
        "\n",
        "- **GET**:  \n",
        "  - Retrieves data  \n",
        "  - Parameters are sent in the URL  \n",
        "  - Used for reading/fetching info  \n",
        "  - Not secure for sensitive data  \n",
        "\n",
        "- **POST**:  \n",
        "  - Sends data to the server  \n",
        "  - Data is in the request body  \n",
        "  - Used for creating or submitting info  \n",
        "  - More secure for sensitive data\n",
        "\n",
        "9.How do you handle errors in Flask APIs?\n",
        "->In Flask APIs, you handle errors using:\n",
        "\n",
        "try / except blocks – Catch exceptions in your code\n",
        "\n",
        "@app.errorhandler() decorator – Define custom error responses\n",
        "\n",
        "10.How do you connect Flask to a SQL database?\n",
        "->To connect Flask to a SQL database, use Flask-SQLAlchemy. Set the database URI in the app's configuration, initialize the SQLAlchemy object, define models for your tables, and then interact with the database using the ORM or raw SQL queries\n",
        "\n",
        "11.What is the role of Flask-SQLAlchemy?\n",
        "->Flask-SQLAlchemy simplifies database integration in Flask applications by providing an ORM (Object-Relational Mapper) that allows you to interact with SQL databases using Python objects, instead of writing raw SQL queries. It handles database connections, queries, and migrations efficiently.\n",
        "\n",
        "12.What are Flask blueprints, and how are they useful?\n",
        "->Flask Blueprints are a way to organize your application into modular components, allowing you to structure larger apps by grouping related routes, views, and functionality. They make your app more maintainable and reusable by enabling you to split the app into smaller, self-contained sections.\n",
        "\n",
        "13.What is the purpose of Flask's request object?\n",
        "->Flask's `request` object provides access to incoming request data, such as form data, query parameters, headers, and JSON payloads. It allows you to retrieve and handle data sent by the client in HTTP requests.\n",
        "\n",
        "14.How do you create a RESTful API endpoint using Flask?\n",
        "->To create a RESTful API endpoint in Flask, use the @app.route() decorator with the appropriate HTTP method (GET, POST, etc.) and define a function to handle the request\n",
        "\n",
        "15.What is the purpose of Flask's jsonify() function?\n",
        "->Flask's `jsonify()` function is used to convert Python dictionaries or lists into JSON responses. It sets the correct content-type (`application/json`) and formats the data to be sent to the client as a JSON object.\n",
        "\n",
        "16.Explain Flask’s url_for() function.\n",
        "->Flask's url_for() function generates the URL for a given endpoint, based on the function name or route. It's useful for creating dynamic links to routes, especially when the URL may change. It helps avoid hardcoding URLs in templates or code.\n",
        "\n",
        "17.How does Flask handle static files (CSS, JavaScript, etc.)?\n",
        "->Flask serves static files like CSS, JavaScript, and images from a default folder named static. You can link to these files in your HTML using the url_for('static', filename='path/to/file') function.\n",
        "\n",
        "18.What is an API specification, and how does it help in building a Flask API?\n",
        "->An API specification is a document that defines the structure, endpoints, request/response formats, and behaviors of an API. It helps in building a Flask API by providing clear guidelines for the API’s design, ensuring consistency, and making it easier to communicate with other developers or systems. It often uses formats like OpenAPI or Swagger.\n",
        "\n",
        "19.What are HTTP status codes, and why are they important in a Flask API?\n",
        "->HTTP status codes indicate the result of an HTTP request. They help clients understand whether their request was successful, if there was an error, or if further action is needed. In Flask APIs, status codes provide crucial feedback, ensuring proper handling of responses (e.g., `200` for success, `404` for not found, `500` for server error).\n",
        "\n",
        "20.How do you handle POST requests in Flask?\n",
        "->To handle POST requests in Flask, use the @app.route() decorator with the methods=['POST'] argument, and access the request data through request.form or request.json.\n",
        "\n",
        "21.How would you secure a Flask API?\n",
        "->To secure a Flask API, you can:\n",
        "\n",
        "1.Use authentication**: Implement token-based authentication (e.g., JWT) or session-based authentication.\n",
        "2.Authorize access**: Restrict endpoints with roles/permissions.\n",
        "3.Use HTTPS**: Serve the API over HTTPS to encrypt data.\n",
        "4.Validate inputs**: Sanitize and validate input data to prevent attacks (e.g., SQL injection).\n",
        "5.Rate limiting**: Limit the number of requests to prevent abuse (e.g., Flask-Limiter).\n",
        "\n",
        "22.What is the significance of the Flask-RESTful extension?\n",
        "->Flask-RESTful is an extension that simplifies building REST APIs with Flask. It provides tools to define resources, handle HTTP methods, and structure API responses, making it easier to create, manage, and maintain RESTful APIs with minimal boilerplate code.\n",
        "\n",
        "23.What is the role of Flask’s session object?\n",
        "->Flask's `session` object is used to store data between requests for a user, typically in the form of cookies. It allows you to keep track of user-specific information (like login state) across multiple requests, providing a way to maintain session data on the client side securely.\n"
      ],
      "metadata": {
        "id": "N-II907zmg9A"
      }
    },
    {
      "cell_type": "code",
      "source": [],
      "metadata": {
        "id": "VLTaZDGUS73k"
      },
      "execution_count": null,
      "outputs": []
    },
    {
      "cell_type": "markdown",
      "source": [
        "##PRACTICAL QUESTIONS"
      ],
      "metadata": {
        "id": "vEdrFvqwqxJ4"
      }
    },
    {
      "cell_type": "code",
      "source": [
        "#2.How do you serve static files like images or CSS in Flask\n",
        "from flask import Flask, render_template\n",
        "\n",
        "app = Flask(__name__)\n",
        "\n",
        "@app.route('/')\n",
        "def home():\n",
        "    return render_template('index.html')\n",
        "\n",
        "if __name__ == '__main__':\n",
        "    app.run(debug=True)\n"
      ],
      "metadata": {
        "colab": {
          "base_uri": "https://localhost:8080/"
        },
        "id": "FGvDr70GrovR",
        "outputId": "a0f84eb7-7dab-4020-8278-5bd66a67b402"
      },
      "execution_count": null,
      "outputs": [
        {
          "output_type": "stream",
          "name": "stdout",
          "text": [
            " * Serving Flask app '__main__'\n",
            " * Debug mode: on\n"
          ]
        },
        {
          "output_type": "stream",
          "name": "stderr",
          "text": [
            "INFO:werkzeug:\u001b[31m\u001b[1mWARNING: This is a development server. Do not use it in a production deployment. Use a production WSGI server instead.\u001b[0m\n",
            " * Running on http://127.0.0.1:5000\n",
            "INFO:werkzeug:\u001b[33mPress CTRL+C to quit\u001b[0m\n",
            "INFO:werkzeug: * Restarting with stat\n"
          ]
        }
      ]
    },
    {
      "cell_type": "code",
      "source": [
        "#1.How do you create a basic Flask application\n",
        " pip install flask\n",
        "\n",
        "  from flask import Flask\n",
        "\n",
        "app = Flask(__name__)\n",
        "\n",
        "@app.route('/')\n",
        "def hello_world():\n",
        "    return 'Hello, World!'\n",
        "\n",
        "if __name__ == '__main__':\n",
        "    app.run(debug=True)"
      ],
      "metadata": {
        "colab": {
          "base_uri": "https://localhost:8080/",
          "height": 106
        },
        "id": "XvBcogYxw82Q",
        "outputId": "77fc86a3-eb7f-496c-a460-a0549d8f2d5c"
      },
      "execution_count": null,
      "outputs": [
        {
          "output_type": "error",
          "ename": "IndentationError",
          "evalue": "unexpected indent (<ipython-input-15-700834c94858>, line 2)",
          "traceback": [
            "\u001b[0;36m  File \u001b[0;32m\"<ipython-input-15-700834c94858>\"\u001b[0;36m, line \u001b[0;32m2\u001b[0m\n\u001b[0;31m    pip install flask\u001b[0m\n\u001b[0m    ^\u001b[0m\n\u001b[0;31mIndentationError\u001b[0m\u001b[0;31m:\u001b[0m unexpected indent\n"
          ]
        }
      ]
    },
    {
      "cell_type": "code",
      "source": [
        "#3. How do you define different routes with different HTTP methods in Flask\n",
        "from flask import Flask, request\n",
        "\n",
        "app = Flask(__name__)\n",
        "\n",
        "@app.route('/example', methods=['GET', 'POST'])\n",
        "def example():\n",
        "    if request.method == 'GET':\n",
        "        return 'This is a GET request'\n",
        "    elif request.method == 'POST':\n",
        "        return 'This is a POST request'\n"
      ],
      "metadata": {
        "id": "h55oDa3PS-p6"
      },
      "execution_count": 1,
      "outputs": []
    },
    {
      "cell_type": "code",
      "source": [
        "#4.How do you render HTML templates in Flask\n",
        "from flask import Flask, render_template\n",
        "\n",
        "app = Flask(__name__)\n",
        "\n",
        "@app.route('/')\n",
        "def home():\n",
        "    return render_template('index.html')\n"
      ],
      "metadata": {
        "id": "yvEHFWmTTiQG"
      },
      "execution_count": 2,
      "outputs": []
    },
    {
      "cell_type": "code",
      "source": [
        "#5. How can you generate URLs for routes in Flask using url_for\n",
        "from flask import Flask, url_for\n",
        "\n",
        "app = Flask(__name__)\n",
        "\n",
        "@app.route('/profile/<username>')\n",
        "def profile(username):\n",
        "    return f\"User: {username}\"\n",
        "\n",
        "@app.route('/')\n",
        "def home():\n",
        "    # Generates: /profile/johndoe\n",
        "    profile_url = url_for('profile', username='johndoe')\n",
        "    return f\"Go to <a href='{profile_url}'>John's profile</a>\"\n"
      ],
      "metadata": {
        "id": "AthwDz1NTuoU"
      },
      "execution_count": 3,
      "outputs": []
    },
    {
      "cell_type": "code",
      "source": [
        "#6.How do you handle forms in Flask\n",
        "from flask import Flask, render_template, request\n",
        "\n",
        "app = Flask(__name__)\n",
        "\n",
        "@app.route('/submit', methods=['GET', 'POST'])\n",
        "def submit():\n",
        "    if request.method == 'POST':\n",
        "        name = request.form['name']  # or request.form.get('name')\n",
        "        return f'Hello, {name}!'\n",
        "    return render_template('form.html')\n"
      ],
      "metadata": {
        "id": "WfhCEc_lUKb6"
      },
      "execution_count": 4,
      "outputs": []
    },
    {
      "cell_type": "code",
      "source": [
        "#7.How can you validate form data in Flask\n",
        "from flask import Flask, request, render_template\n",
        "\n",
        "app = Flask(__name__)\n",
        "\n",
        "@app.route('/login', methods=['GET', 'POST'])\n",
        "def login():\n",
        "    error = None\n",
        "    if request.method == 'POST':\n",
        "        username = request.form.get('username')\n",
        "        password = request.form.get('password')\n",
        "\n",
        "        if not username or not password:\n",
        "            error = \"All fields are required.\"\n",
        "        elif username != 'admin' or password != 'secret':\n",
        "            error = \"Invalid credentials.\"\n",
        "        else:\n",
        "            return \"Logged in successfully!\"\n",
        "\n",
        "    return render_template('login.html', error=error)\n"
      ],
      "metadata": {
        "id": "jNTghUVmUbdB"
      },
      "execution_count": 5,
      "outputs": []
    },
    {
      "cell_type": "code",
      "source": [
        "#8. How do you manage sessions in Flask\n",
        "from flask import Flask, session\n",
        "\n"
      ],
      "metadata": {
        "id": "iUIhvq8KVJ7i"
      },
      "execution_count": 9,
      "outputs": []
    },
    {
      "cell_type": "code",
      "source": [
        "#9.How do you redirect to a different route in Flask\n",
        "from flask import Flask, redirect, url_for\n",
        "\n",
        "app = Flask(__name__)\n",
        "\n",
        "@app.route('/')\n",
        "def home():\n",
        "    return \"Welcome to the homepage!\"\n",
        "\n",
        "@app.route('/go-to-home')\n",
        "def go_to_home():\n",
        "    return redirect(url_for('home'))  # Redirects to '/'\n"
      ],
      "metadata": {
        "id": "jR0ulwPeVtqH"
      },
      "execution_count": 10,
      "outputs": []
    },
    {
      "cell_type": "code",
      "source": [
        "#10.How do you handle errors in Flask\n",
        "from flask import Flask, redirect, url_for\n",
        "\n",
        "app = Flask(__name__)\n",
        "\n",
        "@app.route('/')\n",
        "def home():\n",
        "    return \"Welcome to the homepage!\"\n",
        "\n",
        "@app.route('/go-to-home')\n",
        "def go_to_home():\n",
        "    return redirect(url_for('home'))  # Redirects to '/'\n"
      ],
      "metadata": {
        "id": "mKHoeaW8WekD"
      },
      "execution_count": 11,
      "outputs": []
    },
    {
      "cell_type": "code",
      "source": [
        "#11.ow do you structure a Flask app using Blueprints\n",
        "from flask import Blueprint, render_template\n",
        "\n",
        "auth_bp = Blueprint('auth', __name__, url_prefix='/auth')\n",
        "\n",
        "@auth_bp.route('/login')\n",
        "def login():\n",
        "    return render_template('login.html')\n"
      ],
      "metadata": {
        "id": "3r8ugzIBW5Qz"
      },
      "execution_count": 14,
      "outputs": []
    },
    {
      "cell_type": "code",
      "source": [
        "#12.How do you define a custom Jinja filter in Flask\n",
        "@app.template_filter('truncate')\n",
        "def truncate(s, length=5):\n",
        "    return s[:length] + '...' if len(s) > length else s\n"
      ],
      "metadata": {
        "id": "8BgBvsc1XMym"
      },
      "execution_count": 15,
      "outputs": []
    },
    {
      "cell_type": "code",
      "source": [
        "#13.How can you redirect with query parameters in Flask\n",
        "from flask import Flask, redirect, url_for, request\n",
        "\n",
        "app = Flask(__name__)\n",
        "\n",
        "@app.route('/')\n",
        "def index():\n",
        "    return 'Welcome to the homepage!'\n",
        "\n",
        "@app.route('/search')\n",
        "def search():\n",
        "    query = request.args.get('q', '')\n",
        "    return f\"You searched for: {query}\"\n",
        "\n",
        "@app.route('/go-search')\n",
        "def go_search():\n",
        "    return redirect(url_for('search', q='flask blueprints'))\n"
      ],
      "metadata": {
        "id": "eiE3D6_KXceU"
      },
      "execution_count": 16,
      "outputs": []
    },
    {
      "cell_type": "code",
      "source": [
        "#14.How do you return JSON responses in Flask\n",
        "from flask import Flask, jsonify\n",
        "\n",
        "app = Flask(__name__)\n",
        "\n",
        "@app.route('/api')\n",
        "def api():\n",
        "    data = {\n",
        "        'name': 'John Doe',\n",
        "        'age': 30,\n",
        "        'city': 'New York'\n",
        "    }\n",
        "    return jsonify(data)\n"
      ],
      "metadata": {
        "id": "t7YnfuLCXtgN"
      },
      "execution_count": 17,
      "outputs": []
    },
    {
      "cell_type": "code",
      "source": [
        "#15. How do you capture URL parameters in Flask?\n",
        "from flask import Flask\n",
        "\n",
        "app = Flask(__name__)\n",
        "\n",
        "@app.route('/user/<username>')\n",
        "def show_user(username):\n",
        "    return f\"Hello, {username}!\"\n"
      ],
      "metadata": {
        "id": "jwr4chTOX6DL"
      },
      "execution_count": 18,
      "outputs": []
    }
  ]
}